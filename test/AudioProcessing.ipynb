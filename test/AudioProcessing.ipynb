{
 "cells": [
  {
   "metadata": {},
   "cell_type": "markdown",
   "source": "# 音频处理",
   "id": "4f3a15c500e98fb8"
  },
  {
   "metadata": {},
   "cell_type": "markdown",
   "source": "## 1.Pydub",
   "id": "309148c8911a14dc"
  },
  {
   "metadata": {},
   "cell_type": "markdown",
   "source": "### 1.1打开音频文件",
   "id": "b409ec9ab20abc1f"
  },
  {
   "metadata": {
    "ExecuteTime": {
     "end_time": "2024-04-20T12:50:33.834977Z",
     "start_time": "2024-04-20T12:50:33.812277Z"
    }
   },
   "cell_type": "code",
   "source": [
    "from pydub import AudioSegment as am\n",
    "\n",
    "FPS = 30"
   ],
   "id": "2a3b2cb041ee91f",
   "outputs": [],
   "execution_count": 2
  },
  {
   "metadata": {
    "ExecuteTime": {
     "end_time": "2024-04-20T12:50:34.083889Z",
     "start_time": "2024-04-20T12:50:33.961018Z"
    }
   },
   "cell_type": "code",
   "source": [
    "# from .mp3\n",
    "do = am.from_mp3('audio/do.MP3')\n",
    "# from .wav\n",
    "snare_drum = am.from_wav('audio/snare_drum_roll.WAV')"
   ],
   "id": "e9c45b4a583404fa",
   "outputs": [],
   "execution_count": 3
  },
  {
   "metadata": {},
   "cell_type": "markdown",
   "source": "### 1.2音频段切片",
   "id": "7740ffa5f029605d"
  },
  {
   "metadata": {
    "ExecuteTime": {
     "end_time": "2024-04-20T12:50:34.100407Z",
     "start_time": "2024-04-20T12:50:34.085155Z"
    }
   },
   "cell_type": "code",
   "source": [
    "first_second = snare_drum[:1 * 1000]\n",
    "last_second = snare_drum[-1 * 1000:]"
   ],
   "id": "338ecb2bd290ed8b",
   "outputs": [],
   "execution_count": 4
  },
  {
   "metadata": {},
   "cell_type": "markdown",
   "source": "### 1.3音量调整",
   "id": "3460fe60bc414e07"
  },
  {
   "metadata": {
    "ExecuteTime": {
     "end_time": "2024-04-20T12:50:34.116527Z",
     "start_time": "2024-04-20T12:50:34.101914Z"
    }
   },
   "cell_type": "code",
   "source": [
    "# 提高音量\n",
    "louder_first_second = first_second + 6  # 提高6分贝\n",
    "# 降低音量\n",
    "quieter_last_second = last_second - 3  # 降低3分贝"
   ],
   "id": "55ba83aae7ba281f",
   "outputs": [],
   "execution_count": 5
  },
  {
   "metadata": {},
   "cell_type": "markdown",
   "source": "### 1.4合并音频",
   "id": "e90e9844db9f234f"
  },
  {
   "metadata": {
    "ExecuteTime": {
     "end_time": "2024-04-20T12:50:34.132100Z",
     "start_time": "2024-04-20T12:50:34.118530Z"
    }
   },
   "cell_type": "code",
   "source": "blend = louder_first_second + quieter_last_second",
   "id": "4b0fa11b7c335e1f",
   "outputs": [],
   "execution_count": 6
  },
  {
   "metadata": {},
   "cell_type": "markdown",
   "source": "### 1.5音频段长度",
   "id": "1d8a9e6bd5bea000"
  },
  {
   "metadata": {
    "ExecuteTime": {
     "end_time": "2024-04-20T12:50:34.147437Z",
     "start_time": "2024-04-20T12:50:34.133138Z"
    }
   },
   "cell_type": "code",
   "source": "print(blend.duration_seconds)",
   "id": "c8d096d9c907ac3",
   "outputs": [
    {
     "name": "stdout",
     "output_type": "stream",
     "text": [
      "2.0\n"
     ]
    }
   ],
   "execution_count": 7
  },
  {
   "metadata": {},
   "cell_type": "markdown",
   "source": "### 1.6交叉淡化",
   "id": "fec217742c2d78b0"
  },
  {
   "metadata": {
    "ExecuteTime": {
     "end_time": "2024-04-20T12:50:34.163529Z",
     "start_time": "2024-04-20T12:50:34.149443Z"
    }
   },
   "cell_type": "code",
   "source": [
    "# 0.5秒淡入淡出\n",
    "cross_fade = first_second.append(last_second, crossfade=500)   # 音频段本身不可变"
   ],
   "id": "845c81f89ee7cc04",
   "outputs": [],
   "execution_count": 8
  },
  {
   "metadata": {},
   "cell_type": "markdown",
   "source": "### 1.7重复",
   "id": "2516012f5006a8b0"
  },
  {
   "metadata": {
    "ExecuteTime": {
     "end_time": "2024-04-20T12:50:34.210191Z",
     "start_time": "2024-04-20T12:50:34.205177Z"
    }
   },
   "cell_type": "code",
   "source": [
    "# 重复3次\n",
    "repeated_do = do * 3"
   ],
   "id": "61dfa12c7d57efea",
   "outputs": [],
   "execution_count": 9
  },
  {
   "metadata": {},
   "cell_type": "markdown",
   "source": "### 1.8保存音频",
   "id": "bef525403f8bfcb5"
  },
  {
   "metadata": {
    "ExecuteTime": {
     "end_time": "2024-04-20T12:50:34.429111Z",
     "start_time": "2024-04-20T12:50:34.273913Z"
    }
   },
   "cell_type": "code",
   "source": [
    "# 保存为.mp3文件\n",
    "repeated_do.export('audio/repeated_do.MP3', format='mp3')\n",
    "# 保存为.wav文件\n",
    "cross_fade.export('audio/snare_drum_roll_cross_fade.WAV', format='wav')"
   ],
   "id": "2c04c4213800b8c0",
   "outputs": [
    {
     "data": {
      "text/plain": [
       "<_io.BufferedRandom name='audio/snare_drum_roll_cross_fade.WAV'>"
      ]
     },
     "execution_count": 10,
     "metadata": {},
     "output_type": "execute_result"
    }
   ],
   "execution_count": 10
  },
  {
   "metadata": {},
   "cell_type": "markdown",
   "source": "### 1.9改变音频速度",
   "id": "8cb8e25e33cc64e"
  },
  {
   "metadata": {
    "ExecuteTime": {
     "end_time": "2024-04-20T12:50:34.538535Z",
     "start_time": "2024-04-20T12:50:34.430113Z"
    }
   },
   "cell_type": "code",
   "source": [
    "# 加快2倍播放速度\n",
    "do_fast = do.speedup(playback_speed=2)\n",
    "do_fast.export('audio/do_fast.MP3', format='mp3')"
   ],
   "id": "4b9122d1850288ca",
   "outputs": [
    {
     "data": {
      "text/plain": [
       "<_io.BufferedRandom name='audio/do_fast.MP3'>"
      ]
     },
     "execution_count": 11,
     "metadata": {},
     "output_type": "execute_result"
    }
   ],
   "execution_count": 11
  },
  {
   "metadata": {},
   "cell_type": "markdown",
   "source": "## 2.librosa",
   "id": "ae55d1a0361b90cb"
  },
  {
   "metadata": {},
   "cell_type": "markdown",
   "source": "### 2.1改变音频音调",
   "id": "d015e8471a6c4502"
  },
  {
   "metadata": {
    "ExecuteTime": {
     "end_time": "2024-04-20T13:11:47.779329Z",
     "start_time": "2024-04-20T13:11:47.736332Z"
    }
   },
   "cell_type": "code",
   "source": [
    "import librosa as lr\n",
    "import soundfile as sf\n",
    "'''\n",
    "y: audio signal (numpy array)\n",
    "sr: sample rate (float)\n",
    "n_steps: number of half-steps to shift (float), positive to raise pitch, negative to lower pitch\n",
    "'''\n",
    "y, sr = lr.load('audio/do.MP3') # 加载音频文件\n",
    "y_pitch = lr.effects.pitch_shift(y, sr=sr, n_steps=2)  # 音调上调2个半音\n",
    "sf.write('audio/re.MP3', y_pitch, sr)  # 保存音频文件"
   ],
   "id": "868def06d2c105c1",
   "outputs": [],
   "execution_count": 15
  },
  {
   "metadata": {},
   "cell_type": "code",
   "outputs": [],
   "execution_count": null,
   "source": "",
   "id": "d51af4deee5dbea7"
  }
 ],
 "metadata": {
  "kernelspec": {
   "display_name": "Python 3",
   "language": "python",
   "name": "python3"
  },
  "language_info": {
   "codemirror_mode": {
    "name": "ipython",
    "version": 2
   },
   "file_extension": ".py",
   "mimetype": "text/x-python",
   "name": "python",
   "nbconvert_exporter": "python",
   "pygments_lexer": "ipython2",
   "version": "2.7.6"
  }
 },
 "nbformat": 4,
 "nbformat_minor": 5
}
